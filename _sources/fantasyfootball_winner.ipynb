{
 "cells": [
  {
   "cell_type": "markdown",
   "id": "da741775",
   "metadata": {},
   "source": [
    "# Part 1: Getting the Data Ready"
   ]
  },
  {
   "cell_type": "markdown",
   "id": "44a74be4",
   "metadata": {},
   "source": [
    "For the past several years I have been struggling to win a championship in my ESPN Fantasy Football League. Therefore I aim to put my software egineer, analytics and machine learning skills to the test and come up with a data driven approach to winning my league this year."
   ]
  },
  {
   "cell_type": "markdown",
   "id": "d39c7171",
   "metadata": {},
   "source": [
    "### Defining Goal - Target and Intermediate Target Variables\n",
    "Success in a fantasy football league can be guaged in a variety of ways - but we only care about one thing: winning the whole thing. Therefore the main target variable will indicate for any given team in a given year, whether or not they won: \n",
    "\n",
    "- LeagueWin_Binary: Indicator of League Win or Not\n",
    "\n",
    "However, considering there is only 1 winner every year and the league has only been active since 2016, a major flaw to the model could be an incredibly imbalanced dataset. In addition, I fear that there is a lot of variablity in winning that can be attribtued to plain luck. Therefore anticipating the difficulty in predicting a leauge win or not, I will also be including a list of some intermediate target variables that may serve as an alternative measure of success: \n",
    "\n",
    "- LeagueWin_Categorical: Categorical Variable that divides the final standings into 4 different groups: Group1: Place 1-3, Group2: Place:3-6, Group3: 6-9, and Group4: 9-12.\n",
    "- LeaguePlayoffStandings_Categorical: Final playoff standings.\n",
    "- LeaguePlayoff_Binary: Whether or not a team made the playoffs. \n",
    "- LeagueTotalPoints_Numerical: Numerical variable for total points scored in regular season\n",
    "\n",
    "### Defining the Features  \n",
    "There are an abundance of ways in which we can extrapolate \"draft strategies\", but I will be focused on type of position and ADP pre-season ranks of position picked in the various different rounds. Although it would be difficult to write a comprehensive list of all variables, here are some of the features I am interested in manufacturing. \n",
    "\n",
    "- FirstOverallPick_Pos - LastOverallPick_Pos: For each round, a variable indicating the position that was drafted, and the overall ranking that the player had. \n",
    "- OrderofPositionPicks_5Rounds: A sequential list of positions that were drafted from the first 5 rounds.\n",
    "- AverageDraftPick_Position: The average of all the picks by a position. \n",
    "- NumberRookiePicks: Integer number of rookie selections.\n",
    "- AverageAgeofPicks: Float age of overall team. \n",
    "- DiversityTeams: How many different divisions are present in the team. \n",
    "- ByeWeekDifferential: Variance of bye weeks. \n",
    "- HandcuffPicks: If a player from the same team and position are selected. \n",
    "\n",
    "For now, the focus on this first part will be on creating the first bullet point of variables and seeing how picks can be used to make predictive insights. Beyond that, I would also like to emphasize how important the step iof creating reliable and accurate data is as a data scientist/machine learning engineer. Yes our job is to create models and pipelines, but these outputs are entirely dependent on how clean and ready the inputted variables are. Therefore, I always take the time to massage and manufacture variables that I believe are accurately capturing intersting aspect of the problem at hand. \n",
    "\n",
    "Lastly, I find it helpful to understand problems in terms of dataframes. As a visual learner and data practicioner that relies heavily on pandas dataframes, I am able to better engineer data when I have a *final dataframe* that I am working towards. Therefore, in this case, I would envision the final dataframe looking something like this:w"
   ]
  },
  {
   "cell_type": "markdown",
   "id": "ac5ed660",
   "metadata": {},
   "source": [
    "| Team ID | LeagueWin_Binary | First_Overall_Pick_Type | ... | ByeWeekDifferential | HandcuffPicks |\n",
    "|----------|----------|----------|----------|----------|----------|\n",
    "| Team 1_2020 | 0   | RB   |... | 2.5   | 1   |\n",
    "| Team 2_2020   | 1   | WR   |...   | 0   | 3   |"
   ]
  },
  {
   "cell_type": "markdown",
   "id": "9253e3b2",
   "metadata": {},
   "source": [
    "### Packages Used"
   ]
  },
  {
   "cell_type": "code",
   "execution_count": 80,
   "id": "8b0d9628",
   "metadata": {
    "tags": []
   },
   "outputs": [],
   "source": [
    "# imporing packages\n",
    "import pandas as pd\n",
    "import numpy as np\n",
    "import requests\n",
    "\n",
    "# other packages\n",
    "import json\n",
    "\n",
    "# visualization packages\n",
    "import seaborn as sns\n",
    "from matplotlib import pyplot as plt"
   ]
  },
  {
   "cell_type": "markdown",
   "id": "a8371628",
   "metadata": {},
   "source": [
    "### Step 0: Acquiring the Data - ESPN Fantasy Football API\n",
    "As with every data science project, the first step is to actually acquire the data. Although, I don't want to just amatuerly copy and paste data into an excel file. Therefore isntead, I am going to be relying on the poorly documented ESPN API to assemble the data. would much rather create a webscraper to do this for me. In order to do this, I will need to leverage a combination APIs with some \"cookies\" that are needed to login to my private league.\n",
    "\n",
    "First off, its a bit tricky locating cookies, but I highly recommend visiting some of the resources that I have listed, but I found this [tutorial](https://cran.r-project.org/web/packages/ffscrapr/vignettes/espn_authentication.html) from Tan Ho the most helpful. From this you can see the two main cookies you need are the swid, and espn_s2. Just save those as a variable - as it is needed whenever submitting a get request to the ESPN APIs. "
   ]
  },
  {
   "cell_type": "code",
   "execution_count": 79,
   "id": "15969765",
   "metadata": {
    "tags": [
     "remove-input"
    ]
   },
   "outputs": [],
   "source": [
    "SWID_COOKIE = \"{38E522FE-F7B3-4D03-8F72-C2D242449408}\"\n",
    "ESPN_S2 = \"AECU5sgX%2FnFfFx5%2BSi6I2oAW4bMhN3DtVdPvTRQI9ekv2rZG4p4VGAFV3Guav1sSgLmmw19Cyjxa4WyiTt6YmBQQfalKrtDRHa0%2FIahdIShyKyz86UyVIGYLWXXP%2BLZdIbOJ9zJMcF0BRgIkmcu3hqYaOxWiEb3beqqmnqA5LawYW%2BrBlJaVXd2pIXP2WrbhwGPO7C3RsBp3ctyE9hHNuubQUeSHKUFZlUY4iyyPLutZR4OkAYxMURQpxt2DWuCxWiE2L4LTi1iNNjMyHNToWpDXXyBn0y5hYwERRYNzfWUKFg%3D%3D\""
   ]
  },
  {
   "cell_type": "code",
   "execution_count": 80,
   "id": "c4ccb0b0",
   "metadata": {
    "tags": [
     "hide-input"
    ]
   },
   "outputs": [],
   "source": [
    "# historical drafts pull\n",
    "def draft_pull(league_id, year, SWID_COOKIE, ESPN_S2):\n",
    "    \n",
    "    print(\"Starting \" + str(year) + \" draft pull for league \"+ str(league_id))\n",
    "    draft_historical = \"https://fantasy.espn.com/apis/v3/games/ffl/leagueHistory/\" + str(league_id) + \"?view=mDraftDetail&view=mSettings&view=mTeam&view=modular&view=mNav&seasonId=\" + str(year)\n",
    "    # requests for the url \n",
    "    r = requests.get(draft_historical, cookies = {\"swid\": SWID_COOKIE, \"espn_s2\":ESPN_S2})\n",
    "    \n",
    "    # request for \n",
    "    espn_draft_raw = r.json()[0]\n",
    "    \n",
    "    # expracting the mapping doc of member ids/names\n",
    "    members_raw = pd.DataFrame(espn_draft_raw['teams'])\n",
    "    \n",
    "    # extracting actual picks -- limiting to only columns that we need\n",
    "    draft_picks = pd.DataFrame(espn_draft_raw['draftDetail']['picks'])\n",
    "    df = draft_picks[[\"teamId\", \"autoDraftTypeId\", \"roundId\", \"roundPickNumber\", \"overallPickNumber\", \"playerId\", \"lineupSlotId\"]]\n",
    "\n",
    "    # map the team ids to get names onto the draft\n",
    "    df2 = pd.merge(df, members_raw, how=\"left\", left_on=\"teamId\", right_on =\"id\")\n",
    "    \n",
    "    print(\"Completed \" + str(year) + \" draft pull for league \"+ str(league_id))\n",
    "\n",
    "    return df2\n",
    "\n",
    "# mapping an actual name for any player id\n",
    "def player_map(league_id, year, SWID_COOKIE, ESPN_S2):\n",
    "    \n",
    "    print(\"Starting \" + str(year) + \" player detail pull for league \"+ str(league_id))\n",
    "\n",
    "    # player url\n",
    "    player_info = \"https://fantasy.espn.com/apis/v3/games/ffl/seasons/{}/players?scoringPeriodId=0&view=players_wl\".format(year)\n",
    "    \n",
    "    # need this to make sure players don't get filtered out\n",
    "    player_filter = {\"players\": \n",
    "                     {\"limit\": 1500,\n",
    "                      \"sortDraftRanks\": {\"sortPriority\": 100, \"sortAsc\": True,\"value\": \"STANDARD\"}\n",
    "                     }} \n",
    "    # ensures connection doesn't time out\n",
    "    headers = {\n",
    "        'Connection': 'keep-alive',\n",
    "         'Accept': 'application/json, text/plain, */*',\n",
    "         'User-Agent': 'Mozilla/5.0 (Macintosh; Intel Mac OS X 10_14_6) AppleWebKit/537.36 (KHTML, like Gecko) Chrome/79.0.3945.130 Safari/537.36',\n",
    "         'x-fantasy-filter': json.dumps(player_filter),\n",
    "         'x-fantasy-platform': 'kona-PROD-1dc40132dc2070ef47881dc95b633e62cebc9913',\n",
    "         'x-fantasy-source': 'kona'}\n",
    "    \n",
    "    r2 = requests.get(player_info, headers=headers, cookies = {\"swid\": SWID_COOKIE, \"espn_s2\":ESPN_S2})\n",
    "    player_data = r2.json()\n",
    "    df2 = pd.DataFrame(player_data)\n",
    "    \n",
    "    print(\"Completed \" + str(year) + \" player detail pull for league \"+ str(league_id))\n",
    "    \n",
    "    return df2\n",
    "\n",
    "# mapping team name to each id\n",
    "def team_map(league_id, year, SWID_COOKIE, ESPN_S2):\n",
    "    \n",
    "    print(\"Started \" + str(year) + \" team detail pull for league \"+ str(league_id))\n",
    "\n",
    "    # team url \n",
    "    team_info = \"https://fantasy.espn.com/apis/v3/games/ffl/seasons/{}?view=proTeamSchedules_wl\".format(year)\n",
    "    \n",
    "    r = requests.get(team_info, cookies = {\"swid\": SWID_COOKIE, \"espn_s2\":ESPN_S2})\n",
    "    team_data = r.json()['settings']['proTeams']\n",
    "    \n",
    "    team_df = pd.DataFrame(team_data)\n",
    "    \n",
    "    team_df = team_df[['id', 'location', 'name']]\n",
    "    team_df['team_name'] = team_df['location'].astype(str) +\"_\"+ team_df['name']\n",
    "    \n",
    "    # rename in column\n",
    "    team_df.rename(columns = {'id':'team_id'}, inplace = True)\n",
    "    \n",
    "    print(\"Completed \" + str(year) + \" team detail pull for league \"+ str(league_id))\n",
    "    \n",
    "    return team_df"
   ]
  },
  {
   "cell_type": "code",
   "execution_count": 81,
   "id": "1a1c9b83",
   "metadata": {
    "tags": [
     "hide-input"
    ]
   },
   "outputs": [],
   "source": [
    "# helper function to iterate through each year\n",
    "def league_compiler(league_id, year, SWID_COOKIE, ESPN_S2):\n",
    "    \n",
    "    # function to call all the different necessary tables\n",
    "    raw_draft = draft_pull(league_id, year, SWID_COOKIE, ESPN_S2)\n",
    "    \n",
    "    # function to get \n",
    "    player_details = player_map(league_id, year, SWID_COOKIE, ESPN_S2)\n",
    "    team_details = team_map(league_id, year, SWID_COOKIE, ESPN_S2)\n",
    "    \n",
    "    # combine all the dataframes\n",
    "    \n",
    "    # map player ids with player_map to get player names\n",
    "    df_main1 = pd.merge(raw_draft, player_details, how=\"left\", left_on=\"playerId\", right_on=\"id\")\n",
    "    # map team ids with team_map to get team names\n",
    "    df_main2 = pd.merge(df_main1, team_details,how=\"left\", left_on=\"proTeamId\", right_on=\"team_id\" )\n",
    "    df_main2[\"year\"] = year\n",
    "    return df_main2"
   ]
  },
  {
   "cell_type": "code",
   "execution_count": 83,
   "id": "ed82f111",
   "metadata": {
    "tags": [
     "remove-output"
    ]
   },
   "outputs": [],
   "source": [
    "# league_id = 431462\n",
    "# years = [2016, 2017, 2018, 2019,2020,2021,2022]\n",
    "\n",
    "# all_years_draft = pd.DataFrame()\n",
    "# for year in years: \n",
    "#     raw_draft = league_compiler(league_id, year, SWID_COOKIE, ESPN_S2)\n",
    "#     all_years_draft = pd.concat([all_years_draft, raw_draft], ignore_index=True)"
   ]
  },
  {
   "cell_type": "code",
   "execution_count": 84,
   "id": "1fddeae9",
   "metadata": {},
   "outputs": [],
   "source": [
    "# all_years_draft.head()"
   ]
  },
  {
   "cell_type": "code",
   "execution_count": 3,
   "id": "6f3f1df8",
   "metadata": {},
   "outputs": [],
   "source": [
    "# save the data to a csv so we don't have to do this again!\n",
    "# all_years_draft.to_csv(\"ff_alldraft_raw.csv\",  index=False)\n",
    "all_years_draft = pd.read_csv(\"ff_alldraft_raw.csv\")"
   ]
  },
  {
   "cell_type": "markdown",
   "id": "08fc3003",
   "metadata": {},
   "source": [
    "### Step 1.0: Data Cleaning and Manipulation"
   ]
  },
  {
   "cell_type": "markdown",
   "id": "ddd00e57",
   "metadata": {},
   "source": [
    "##### Making Our Index: Team Id, Year\n",
    "As mentioned earlier, we are trying to build a model that will give us insight on how to draft players to win the league. Therefore each row in our final dataframe should represent a team during a given year, and variables that encompass the drafting stratgies they used. "
   ]
  },
  {
   "cell_type": "code",
   "execution_count": 77,
   "id": "5bf70e38",
   "metadata": {},
   "outputs": [
    {
     "name": "stdout",
     "output_type": "stream",
     "text": [
      "[ 3  1  9  6  8  4 10 12 11  7  5  2 13 14 17 16 15 18 19]\n",
      "[2016 2017 2018 2019 2020 2021 2022]\n"
     ]
    }
   ],
   "source": [
    "\n",
    "print(all_years_draft[\"teamId\"].unique())\n",
    "print(all_years_draft[\"year\"].unique())\n",
    "\n",
    "# creating the main index \n",
    "all_years_draft[\"team_year\"] = all_years_draft[\"teamId\"].astype(str) +\"_\"+ all_years_draft[\"year\"].astype(str)"
   ]
  },
  {
   "cell_type": "code",
   "execution_count": 99,
   "id": "db9a151c",
   "metadata": {},
   "outputs": [],
   "source": [
    "# creating the other target variables\n",
    "def winner_indictor(row):\n",
    "\n",
    "    if row['rankCalculatedFinal']==1:\n",
    "        return 1\n",
    "    else:\n",
    "        return 0\n",
    "\n",
    "def top3_indictor(row):\n",
    "\n",
    "    if row['rankCalculatedFinal']<=2:\n",
    "        return 1\n",
    "    else:\n",
    "        return 0\n",
    "    \n",
    "def split_by3_indicator(row):\n",
    "    \n",
    "    if row['rankCalculatedFinal']<=3:\n",
    "        return 1\n",
    "    elif row['rankCalculatedFinal']>3 and row['rankCalculatedFinal']<=6:\n",
    "        return 2\n",
    "    elif row['rankCalculatedFinal']>6 and row['rankCalculatedFinal']<=9:\n",
    "        return 3\n",
    "    elif row['rankCalculatedFinal']>9 and row['rankCalculatedFinal']<=12:\n",
    "        return 4\n",
    "\n",
    "# win vs no win \n",
    "all_years_draft['LeagueWin_Bin'] = all_years_draft.apply(winner_indictor, axis=1)\n",
    "all_years_draft['LeagueTop2_Bin'] = all_years_draft.apply(top3_indictor, axis=1)\n",
    "all_years_draft['LeagueFinish_Cat4'] = all_years_draft.apply(split_by3_indicator, axis=1)"
   ]
  },
  {
   "cell_type": "code",
   "execution_count": 105,
   "id": "72f2aa7c",
   "metadata": {},
   "outputs": [
    {
     "data": {
      "text/html": [
       "<div>\n",
       "<style scoped>\n",
       "    .dataframe tbody tr th:only-of-type {\n",
       "        vertical-align: middle;\n",
       "    }\n",
       "\n",
       "    .dataframe tbody tr th {\n",
       "        vertical-align: top;\n",
       "    }\n",
       "\n",
       "    .dataframe thead th {\n",
       "        text-align: right;\n",
       "    }\n",
       "</style>\n",
       "<table border=\"1\" class=\"dataframe\">\n",
       "  <thead>\n",
       "    <tr style=\"text-align: right;\">\n",
       "      <th></th>\n",
       "      <th>teamId</th>\n",
       "      <th>autoDraftTypeId</th>\n",
       "      <th>roundId</th>\n",
       "      <th>roundPickNumber</th>\n",
       "      <th>overallPickNumber</th>\n",
       "      <th>playerId</th>\n",
       "      <th>lineupSlotId</th>\n",
       "      <th>abbrev</th>\n",
       "      <th>currentProjectedRank</th>\n",
       "      <th>divisionId</th>\n",
       "      <th>...</th>\n",
       "      <th>name_y</th>\n",
       "      <th>team_name</th>\n",
       "      <th>year</th>\n",
       "      <th>watchList</th>\n",
       "      <th>valuesByStat</th>\n",
       "      <th>team_year</th>\n",
       "      <th>LeagueWin_Bin</th>\n",
       "      <th>LeagueTop3_Cat</th>\n",
       "      <th>LeagueTop2_Bin</th>\n",
       "      <th>LeagueFinish_Cat4</th>\n",
       "    </tr>\n",
       "  </thead>\n",
       "  <tbody>\n",
       "    <tr>\n",
       "      <th>1380</th>\n",
       "      <td>16</td>\n",
       "      <td>3</td>\n",
       "      <td>16</td>\n",
       "      <td>11</td>\n",
       "      <td>191</td>\n",
       "      <td>4372485</td>\n",
       "      <td>20</td>\n",
       "      <td>Hd</td>\n",
       "      <td>0</td>\n",
       "      <td>1</td>\n",
       "      <td>...</td>\n",
       "      <td>Cardinals</td>\n",
       "      <td>Arizona_Cardinals</td>\n",
       "      <td>2022</td>\n",
       "      <td>[]</td>\n",
       "      <td>{'128': 0.0, '129': 1.0, '130': 5.0, '4': 25.0...</td>\n",
       "      <td>16_2022</td>\n",
       "      <td>0</td>\n",
       "      <td>0</td>\n",
       "      <td>0</td>\n",
       "      <td>2</td>\n",
       "    </tr>\n",
       "    <tr>\n",
       "      <th>1381</th>\n",
       "      <td>14</td>\n",
       "      <td>0</td>\n",
       "      <td>16</td>\n",
       "      <td>12</td>\n",
       "      <td>192</td>\n",
       "      <td>3025433</td>\n",
       "      <td>20</td>\n",
       "      <td>FRLO</td>\n",
       "      <td>0</td>\n",
       "      <td>1</td>\n",
       "      <td>...</td>\n",
       "      <td>FA</td>\n",
       "      <td>_FA</td>\n",
       "      <td>2022</td>\n",
       "      <td>NaN</td>\n",
       "      <td>{'128': 0.0, '129': 0.0, '130': 5.0, '4': 40.0...</td>\n",
       "      <td>14_2022</td>\n",
       "      <td>0</td>\n",
       "      <td>0</td>\n",
       "      <td>0</td>\n",
       "      <td>3</td>\n",
       "    </tr>\n",
       "  </tbody>\n",
       "</table>\n",
       "<p>2 rows × 51 columns</p>\n",
       "</div>"
      ],
      "text/plain": [
       "      teamId  autoDraftTypeId  roundId  roundPickNumber  overallPickNumber  \\\n",
       "1380      16                3       16               11                191   \n",
       "1381      14                0       16               12                192   \n",
       "\n",
       "      playerId  lineupSlotId abbrev  currentProjectedRank  divisionId  ...  \\\n",
       "1380   4372485            20     Hd                     0           1  ...   \n",
       "1381   3025433            20   FRLO                     0           1  ...   \n",
       "\n",
       "         name_y          team_name  year watchList  \\\n",
       "1380  Cardinals  Arizona_Cardinals  2022        []   \n",
       "1381         FA                _FA  2022       NaN   \n",
       "\n",
       "                                           valuesByStat team_year  \\\n",
       "1380  {'128': 0.0, '129': 1.0, '130': 5.0, '4': 25.0...   16_2022   \n",
       "1381  {'128': 0.0, '129': 0.0, '130': 5.0, '4': 40.0...   14_2022   \n",
       "\n",
       "     LeagueWin_Bin  LeagueTop3_Cat  LeagueTop2_Bin  LeagueFinish_Cat4  \n",
       "1380             0               0               0                  2  \n",
       "1381             0               0               0                  3  \n",
       "\n",
       "[2 rows x 51 columns]"
      ]
     },
     "execution_count": 105,
     "metadata": {},
     "output_type": "execute_result"
    }
   ],
   "source": [
    "all_years_draft.tail(2)"
   ]
  },
  {
   "cell_type": "markdown",
   "id": "880be120",
   "metadata": {},
   "source": [
    "### Step 1.1 Data Exploration"
   ]
  },
  {
   "cell_type": "markdown",
   "id": "34d7db8e",
   "metadata": {},
   "source": [
    "**Are different positions being drafted at different rounds when winning and non winning teams?**  \n",
    "The first way I can do this is by creating a boxplot. "
   ]
  },
  {
   "cell_type": "code",
   "execution_count": 103,
   "id": "e210037f",
   "metadata": {},
   "outputs": [
    {
     "data": {
      "text/plain": [
       "Text(0.5, 1.0, 'Distributions of Pick Numbers for Drafted Positions')"
      ]
     },
     "execution_count": 103,
     "metadata": {},
     "output_type": "execute_result"
    },
    {
     "data": {
      "image/png": "[encoded data removed]",
      "text/plain": [
       "<Figure size 720x504 with 1 Axes>"
      ]
     },
     "metadata": {
      "needs_background": "light"
     },
     "output_type": "display_data"
    }
   ],
   "source": [
    "plt.figure(figsize = (10,7))\n",
    "sns.boxplot(x = 'defaultPositionId', y = 'overallPickNumber', hue='LeagueFinish_Cat4',data = all_years_draft)\n",
    "plt.xlabel(\"Position\")\n",
    "plt.ylabel(\"Overall Pick Number\")\n",
    "plt.title(\"Distributions of Pick Numbers for Drafted Positions\")"
   ]
  },
  {
   "cell_type": "markdown",
   "id": "64046ae4",
   "metadata": {},
   "source": [
    "Disapointingly, the boxplot doesn't reveal any statistically significant results - highlighting the immense degree of randomness that exists in ESPN Fantasy Football. However, I am not detered yet, as there are still many other ways that we can attempt gain insight into optimal drafting strategies. \n",
    "\n",
    "However, one immediate things that needs to be tackled, is the dataframe. Currently as it exists, it doesn't exist in the format that we want - a single row for each team and year that they played. As it exists right now, there are up to 12 different rows for each of these instances, capturing the overall pick, round, and round pick for that team. A simple fix for this is to create an \"anchoring\" dataframe. This anchor will be the main dataframe that what engineered variables will be added to, joining on team_year:"
   ]
  },
  {
   "cell_type": "code",
   "execution_count": 59,
   "id": "3d6308bf",
   "metadata": {},
   "outputs": [],
   "source": [
    "# all_years_draft.columns -- filtered out only those columns that are related to the target variable\n",
    "target_cols = ['playoffSeed', 'points', 'rankCalculatedFinal']\n",
    "index_col = [\"team_year\"]\n",
    "\n",
    "# save this df as the anchor data frame - we will concat all variables joining on team_year\n",
    "main_df1 = all_years_draft[index_col+target_cols].drop_duplicates()"
   ]
  },
  {
   "cell_type": "markdown",
   "id": "7eb21c40",
   "metadata": {},
   "source": [
    "**Are winning teams scoring more points?**  \n",
    "The spread defintively indicates that winning teams tend to score more points. However, it is also intersting to note that sometimes there are some exceptions: there is a year that an 8 ranked final team scored what would be considered \"winning points\". "
   ]
  },
  {
   "cell_type": "code",
   "execution_count": 63,
   "id": "768769cc",
   "metadata": {},
   "outputs": [
    {
     "data": {
      "image/png": "[encoded data removed]",
      "text/plain": [
       "<Figure size 432x288 with 1 Axes>"
      ]
     },
     "metadata": {
      "needs_background": "light"
     },
     "output_type": "display_data"
    }
   ],
   "source": [
    "# visualizing points \n",
    "fig = sns.boxplot(data=main_df1, y=\"points\", x=\"rankCalculatedFinal\")\n",
    "# fig.show()"
   ]
  },
  {
   "cell_type": "markdown",
   "id": "c0e96bdf",
   "metadata": {},
   "source": [
    "### Step 1.2 Data Engineering \n",
    "Now that we have our index, the next step is to craft the features. The best way to approach this is to just go down the list of some of the ideas that were described earlier. By tackling each of those ideas one at a time, it makes the process of engineering features a lot less intimidating. So first on the list is creating a variable that captures each of the picks in the draft:  \n",
    "\n",
    "- 1_RoundOverallPosition - Last_RoundOverallPosition: For each round, a variable indicating the position that was drafted, and the overall ranking that the player had.   \n",
    "\n",
    "In order to do this we need to pivot the table to pull out the position that was drafted for any given round:"
   ]
  },
  {
   "cell_type": "code",
   "execution_count": 106,
   "id": "90c53998",
   "metadata": {},
   "outputs": [],
   "source": [
    "# positions_map = {1:\"QB\", 2:\"RB\", 3:\"WR\", 4:\"TE\", 5:\"K\", 16:\"D\"}\n",
    "\n",
    "all_years_draft['defaultPositionId'] = all_years_draft['defaultPositionId'].astype(\"str\")\n",
    "\n",
    "# pivot the table -- using round id as the column we pivot on and the value is the position that was drafted\n",
    "draftedpivot = all_years_draft.pivot_table(index=['team_year'], \n",
    "                                  columns='roundId', \n",
    "                                  values='defaultPositionId',\n",
    "                                    aggfunc='first')\n",
    "\n",
    "# renaming for clarity on what column represents\n",
    "draftedpivot = draftedpivot.add_suffix('RoundOverallPosition')\n",
    "\n",
    "# getting rid of the index so its a dataframe now\n",
    "drafted_final = pd.DataFrame(draftedpivot.to_records())"
   ]
  },
  {
   "cell_type": "code",
   "execution_count": 122,
   "id": "dc140e7e",
   "metadata": {},
   "outputs": [],
   "source": [
    "# joining the dataframe to the anchor dataframe\n",
    "joined_df = pd.merge(main_df1, drafted_final, how=\"left\", on=\"team_year\")"
   ]
  },
  {
   "cell_type": "code",
   "execution_count": null,
   "id": "0319a3db",
   "metadata": {},
   "outputs": [],
   "source": []
  },
  {
   "cell_type": "markdown",
   "id": "f7ebe469",
   "metadata": {},
   "source": [
    "Next I need to extract concate the first 5 picks of the draft for each row.  \n",
    "- OrderofPositionPicks_5Rounds: A sequential list of positions that were drafted from the first 5 rounds."
   ]
  },
  {
   "cell_type": "code",
   "execution_count": 133,
   "id": "17a2d6b1",
   "metadata": {},
   "outputs": [],
   "source": [
    "# joing the first 5 positions to create a combined list.\n",
    "first5 = [\"1RoundOverallPosition\", \"2RoundOverallPosition\", \"3RoundOverallPosition\"]\n",
    "joined_df[\"OrderofPositionPicks_3Rounds\"] = list(joined_df[first5].values)"
   ]
  },
  {
   "cell_type": "code",
   "execution_count": 136,
   "id": "8111cddd",
   "metadata": {},
   "outputs": [
    {
     "ename": "SyntaxError",
     "evalue": "unexpected EOF while parsing (<ipython-input-136-f793aa0e8066>, line 1)",
     "output_type": "error",
     "traceback": [
      "\u001b[1;36m  File \u001b[1;32m\"<ipython-input-136-f793aa0e8066>\"\u001b[1;36m, line \u001b[1;32m1\u001b[0m\n\u001b[1;33m    len(joined_df['OrderofPositionPicks_3Rounds'].astype(\"str\").values\u001b[0m\n\u001b[1;37m                                                                      ^\u001b[0m\n\u001b[1;31mSyntaxError\u001b[0m\u001b[1;31m:\u001b[0m unexpected EOF while parsing\n"
     ]
    }
   ],
   "source": [
    "joined_df['OrderofPositionPicks_3Rounds']"
   ]
  },
  {
   "cell_type": "markdown",
   "id": "5e43f96e",
   "metadata": {},
   "source": [
    "- AverageDraftPick_Position: The average of all the picks by a position. "
   ]
  },
  {
   "cell_type": "markdown",
   "id": "a9307e57",
   "metadata": {},
   "source": [
    "Now that we have a dataframe that sort of captures what I had envisioned, I want to create some other visuals that might give us some preliminary insights into what strategy makes a winning team. \n",
    "\n",
    "**How are winning teams drafting? Is there a difference between winning and non-winning teams in drafting strategies?**  "
   ]
  },
  {
   "cell_type": "code",
   "execution_count": 72,
   "id": "b06b93ce",
   "metadata": {},
   "outputs": [
    {
     "data": {
      "text/plain": [
       "<AxesSubplot:xlabel='LeagueWin_Bin', ylabel='1RoundOverallPosition'>"
      ]
     },
     "execution_count": 72,
     "metadata": {},
     "output_type": "execute_result"
    },
    {
     "data": {
      "image/png": "[encoded data removed]",
      "text/plain": [
       "<Figure size 432x288 with 1 Axes>"
      ]
     },
     "metadata": {
      "needs_background": "light"
     },
     "output_type": "display_data"
    }
   ],
   "source": [
    "sns.distplot(x = 'LeagueWin_Bin', y = '', data = joined_df)\n",
    "\n",
    "plt.figure(figsize=(7,5))\n",
    "sns.distplot(joined_df.1RoundOverallPosition, bins=12, label='Biden')\n",
    "sns.distplot(anes.fttrump, kde=False, bins=12, label='Trump')\n",
    "plt.ylabel('Frequency')\n",
    "plt.xlabel('Thermometer rating')\n",
    "plt.title('Distribution of Thermometer Ratings')\n",
    "plt.legend()"
   ]
  },
  {
   "cell_type": "markdown",
   "id": "961abecd",
   "metadata": {},
   "source": [
    "### Descriptive Statistics"
   ]
  },
  {
   "cell_type": "markdown",
   "id": "4e4cf8ec",
   "metadata": {},
   "source": [
    "## Part 2: Building Predictive Models"
   ]
  },
  {
   "cell_type": "code",
   "execution_count": null,
   "id": "16f2ee12",
   "metadata": {},
   "outputs": [],
   "source": []
  },
  {
   "cell_type": "markdown",
   "id": "331ffe93",
   "metadata": {},
   "source": [
    "### Resources   \n",
    "https://stmorse.github.io/journal/espn-fantasy-python.html  \n",
    "https://stmorse.github.io/journal/espn-fantasy-3-python.html  \n",
    "https://cran.r-project.org/web/packages/ffscrapr/vignettes/espn_authentication.html   \n",
    "https://jman4190.medium.com/how-to-use-python-with-the-espn-fantasy-draft-api-ecde38621b1b"
   ]
  }
 ],
 "metadata": {
  "kernelspec": {
   "display_name": "Python 3",
   "language": "python",
   "name": "python3"
  },
  "language_info": {
   "codemirror_mode": {
    "name": "ipython",
    "version": 3
   },
   "file_extension": ".py",
   "mimetype": "text/x-python",
   "name": "python",
   "nbconvert_exporter": "python",
   "pygments_lexer": "ipython3",
   "version": "3.7.6"
  },
  "toc-showmarkdowntxt": false,
  "toc-showtags": true
 },
 "nbformat": 4,
 "nbformat_minor": 5
}
